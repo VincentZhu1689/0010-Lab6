{
 "cells": [
  {
   "cell_type": "code",
   "execution_count": 2,
   "id": "b5413dac-3691-4cf7-a1c1-4c38d55d7561",
   "metadata": {},
   "outputs": [
    {
     "name": "stdin",
     "output_type": "stream",
     "text": [
      "Enter your name ty\n",
      "Enter your age 19\n"
     ]
    },
    {
     "name": "stdout",
     "output_type": "stream",
     "text": [
      "Your name is ty and your age is 19\n"
     ]
    }
   ],
   "source": [
    "name = input(\"Enter your name\")\n",
    "age = int(input(\"Enter your age\"))\n",
    "\n",
    "result = (f\"Your name is {name} and your age is {age}\")\n",
    "print(result)\n"
   ]
  },
  {
   "cell_type": "code",
   "execution_count": null,
   "id": "35c6f0fc-440f-4b79-92b9-dd39928bfbe9",
   "metadata": {},
   "outputs": [],
   "source": []
  }
 ],
 "metadata": {
  "kernelspec": {
   "display_name": "Python 3 (ipykernel)",
   "language": "python",
   "name": "python3"
  },
  "language_info": {
   "codemirror_mode": {
    "name": "ipython",
    "version": 3
   },
   "file_extension": ".py",
   "mimetype": "text/x-python",
   "name": "python",
   "nbconvert_exporter": "python",
   "pygments_lexer": "ipython3",
   "version": "3.12.4"
  }
 },
 "nbformat": 4,
 "nbformat_minor": 5
}
